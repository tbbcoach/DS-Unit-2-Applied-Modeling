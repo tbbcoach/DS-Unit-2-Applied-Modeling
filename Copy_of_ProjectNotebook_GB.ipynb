{
  "nbformat": 4,
  "nbformat_minor": 0,
  "metadata": {
    "colab": {
      "name": "Copy of ProjectNotebook_GB",
      "provenance": [],
      "collapsed_sections": [],
      "mount_file_id": "153WbzwB1aMExE09PmJJPwle8bmuyJbCy",
      "authorship_tag": "ABX9TyM+C5v8XVF2XpLMeTkV0a8h",
      "include_colab_link": true
    },
    "kernelspec": {
      "display_name": "Python 3",
      "name": "python3"
    },
    "language_info": {
      "name": "python"
    }
  },
  "cells": [
    {
      "cell_type": "markdown",
      "metadata": {
        "id": "view-in-github",
        "colab_type": "text"
      },
      "source": [
        "<a href=\"https://colab.research.google.com/github/tbbcoach/DS-Unit-2-Applied-Modeling/blob/master/Copy_of_ProjectNotebook_GB.ipynb\" target=\"_parent\"><img src=\"https://colab.research.google.com/assets/colab-badge.svg\" alt=\"Open In Colab\"/></a>"
      ]
    },
    {
      "cell_type": "code",
      "metadata": {
        "id": "SLWlgPm6yHvT"
      },
      "source": [
        "%%capture\n",
        "import sys\n",
        "\n",
        "if 'google.colab' in sys.modules:\n",
        "    # Install packages in Colab\n",
        "    !pip install category_encoders\n",
        "    !pip install pdpbox\n",
        "    !pip install shap"
      ],
      "execution_count": 1,
      "outputs": []
    },
    {
      "cell_type": "code",
      "metadata": {
        "colab": {
          "resources": {
            "http://localhost:8080/nbextensions/google.colab/files.js": {
              "data": "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",
              "ok": true,
              "headers": [
                [
                  "content-type",
                  "application/javascript"
                ]
              ],
              "status": 200,
              "status_text": ""
            }
          },
          "base_uri": "https://localhost:8080/",
          "height": 38
        },
        "id": "CVJcFM9YyJ-p",
        "outputId": "682140e3-a51b-4c7b-85b9-c9a61c585617"
      },
      "source": [
        "import pandas as pd\n",
        "import numpy as np\n",
        "\n",
        "from google.colab import files\n",
        "upload =files.upload()\n"
      ],
      "execution_count": 2,
      "outputs": [
        {
          "output_type": "display_data",
          "data": {
            "text/html": [
              "\n",
              "     <input type=\"file\" id=\"files-432e58a2-5973-4e7d-983b-090853585c8b\" name=\"files[]\" multiple disabled\n",
              "        style=\"border:none\" />\n",
              "     <output id=\"result-432e58a2-5973-4e7d-983b-090853585c8b\">\n",
              "      Upload widget is only available when the cell has been executed in the\n",
              "      current browser session. Please rerun this cell to enable.\n",
              "      </output>\n",
              "      <script src=\"/nbextensions/google.colab/files.js\"></script> "
            ],
            "text/plain": [
              "<IPython.core.display.HTML object>"
            ]
          },
          "metadata": {
            "tags": []
          }
        }
      ]
    },
    {
      "cell_type": "code",
      "metadata": {
        "id": "6koyiAHpzaM4",
        "colab": {
          "base_uri": "https://localhost:8080/",
          "height": 204
        },
        "outputId": "0c26e8cf-3e80-4ce0-a82b-66435fe643bd"
      },
      "source": [
        "df_avocado = pd.read_csv('Augmented_avocado.csv')\n",
        "df_avocado = df_avocado.drop(columns=['Unnamed: 0', 'year'])\n",
        "df_avocado.head()"
      ],
      "execution_count": 3,
      "outputs": [
        {
          "output_type": "execute_result",
          "data": {
            "text/html": [
              "<div>\n",
              "<style scoped>\n",
              "    .dataframe tbody tr th:only-of-type {\n",
              "        vertical-align: middle;\n",
              "    }\n",
              "\n",
              "    .dataframe tbody tr th {\n",
              "        vertical-align: top;\n",
              "    }\n",
              "\n",
              "    .dataframe thead th {\n",
              "        text-align: right;\n",
              "    }\n",
              "</style>\n",
              "<table border=\"1\" class=\"dataframe\">\n",
              "  <thead>\n",
              "    <tr style=\"text-align: right;\">\n",
              "      <th></th>\n",
              "      <th>Date</th>\n",
              "      <th>AveragePrice</th>\n",
              "      <th>Total Volume</th>\n",
              "      <th>4046</th>\n",
              "      <th>4225</th>\n",
              "      <th>4770</th>\n",
              "      <th>Total Bags</th>\n",
              "      <th>Small Bags</th>\n",
              "      <th>Large Bags</th>\n",
              "      <th>XLarge Bags</th>\n",
              "      <th>type</th>\n",
              "      <th>region</th>\n",
              "    </tr>\n",
              "  </thead>\n",
              "  <tbody>\n",
              "    <tr>\n",
              "      <th>0</th>\n",
              "      <td>4/23/2017</td>\n",
              "      <td>1.324522</td>\n",
              "      <td>363844.11950</td>\n",
              "      <td>2086.305830</td>\n",
              "      <td>15297.247530</td>\n",
              "      <td>-513.654410</td>\n",
              "      <td>7256.068788</td>\n",
              "      <td>11363.872180</td>\n",
              "      <td>4579.307742</td>\n",
              "      <td>-1.727795</td>\n",
              "      <td>organic</td>\n",
              "      <td>Roanoke</td>\n",
              "    </tr>\n",
              "    <tr>\n",
              "      <th>1</th>\n",
              "      <td>3/29/2015</td>\n",
              "      <td>1.297376</td>\n",
              "      <td>412844.36890</td>\n",
              "      <td>29015.676120</td>\n",
              "      <td>88103.386590</td>\n",
              "      <td>2253.702012</td>\n",
              "      <td>49380.191010</td>\n",
              "      <td>29907.237220</td>\n",
              "      <td>4365.884161</td>\n",
              "      <td>54.793735</td>\n",
              "      <td>conventional</td>\n",
              "      <td>SanFrancisco</td>\n",
              "    </tr>\n",
              "    <tr>\n",
              "      <th>2</th>\n",
              "      <td>2/18/2018</td>\n",
              "      <td>1.469304</td>\n",
              "      <td>75577.23102</td>\n",
              "      <td>25218.753760</td>\n",
              "      <td>19653.059330</td>\n",
              "      <td>-748.277093</td>\n",
              "      <td>31900.310560</td>\n",
              "      <td>12429.538810</td>\n",
              "      <td>-167.238374</td>\n",
              "      <td>-84.541301</td>\n",
              "      <td>organic</td>\n",
              "      <td>Louisville</td>\n",
              "    </tr>\n",
              "    <tr>\n",
              "      <th>3</th>\n",
              "      <td>11/15/2015</td>\n",
              "      <td>1.681869</td>\n",
              "      <td>71767.40793</td>\n",
              "      <td>4466.005801</td>\n",
              "      <td>-8540.909251</td>\n",
              "      <td>-1087.310466</td>\n",
              "      <td>16692.401790</td>\n",
              "      <td>-5718.985732</td>\n",
              "      <td>25867.196990</td>\n",
              "      <td>-33.232127</td>\n",
              "      <td>organic</td>\n",
              "      <td>Albany</td>\n",
              "    </tr>\n",
              "    <tr>\n",
              "      <th>4</th>\n",
              "      <td>6/21/2015</td>\n",
              "      <td>1.334113</td>\n",
              "      <td>77935.77408</td>\n",
              "      <td>866.915215</td>\n",
              "      <td>8097.743815</td>\n",
              "      <td>1260.251319</td>\n",
              "      <td>-6184.326714</td>\n",
              "      <td>63516.027520</td>\n",
              "      <td>2879.525730</td>\n",
              "      <td>-20.586030</td>\n",
              "      <td>organic</td>\n",
              "      <td>SanFrancisco</td>\n",
              "    </tr>\n",
              "  </tbody>\n",
              "</table>\n",
              "</div>"
            ],
            "text/plain": [
              "         Date  AveragePrice  ...          type        region\n",
              "0   4/23/2017      1.324522  ...       organic       Roanoke\n",
              "1   3/29/2015      1.297376  ...  conventional  SanFrancisco\n",
              "2   2/18/2018      1.469304  ...       organic    Louisville\n",
              "3  11/15/2015      1.681869  ...       organic        Albany\n",
              "4   6/21/2015      1.334113  ...       organic  SanFrancisco\n",
              "\n",
              "[5 rows x 12 columns]"
            ]
          },
          "metadata": {
            "tags": []
          },
          "execution_count": 3
        }
      ]
    },
    {
      "cell_type": "code",
      "metadata": {
        "id": "pW_KW0_p6EPK",
        "colab": {
          "base_uri": "https://localhost:8080/",
          "height": 204
        },
        "outputId": "50358597-ad60-4eb1-a74d-a0c12bccf8f1"
      },
      "source": [
        "#add 'cheap' column.  Based cutoff on mean AveragePrice\n",
        "\n",
        "cutoff = 1.33\n",
        "df_avocado['cheap'] = df_avocado.AveragePrice.apply(lambda x: 0 if x <= cutoff else 1)\n",
        "df_avocado.type.astype(str)\n",
        "df_avocado['type'] = df_avocado['type'].apply(lambda x: 1 if x == 'conventional' else 0)\n",
        "df_avocado.head()"
      ],
      "execution_count": 4,
      "outputs": [
        {
          "output_type": "execute_result",
          "data": {
            "text/html": [
              "<div>\n",
              "<style scoped>\n",
              "    .dataframe tbody tr th:only-of-type {\n",
              "        vertical-align: middle;\n",
              "    }\n",
              "\n",
              "    .dataframe tbody tr th {\n",
              "        vertical-align: top;\n",
              "    }\n",
              "\n",
              "    .dataframe thead th {\n",
              "        text-align: right;\n",
              "    }\n",
              "</style>\n",
              "<table border=\"1\" class=\"dataframe\">\n",
              "  <thead>\n",
              "    <tr style=\"text-align: right;\">\n",
              "      <th></th>\n",
              "      <th>Date</th>\n",
              "      <th>AveragePrice</th>\n",
              "      <th>Total Volume</th>\n",
              "      <th>4046</th>\n",
              "      <th>4225</th>\n",
              "      <th>4770</th>\n",
              "      <th>Total Bags</th>\n",
              "      <th>Small Bags</th>\n",
              "      <th>Large Bags</th>\n",
              "      <th>XLarge Bags</th>\n",
              "      <th>type</th>\n",
              "      <th>region</th>\n",
              "      <th>cheap</th>\n",
              "    </tr>\n",
              "  </thead>\n",
              "  <tbody>\n",
              "    <tr>\n",
              "      <th>0</th>\n",
              "      <td>4/23/2017</td>\n",
              "      <td>1.324522</td>\n",
              "      <td>363844.11950</td>\n",
              "      <td>2086.305830</td>\n",
              "      <td>15297.247530</td>\n",
              "      <td>-513.654410</td>\n",
              "      <td>7256.068788</td>\n",
              "      <td>11363.872180</td>\n",
              "      <td>4579.307742</td>\n",
              "      <td>-1.727795</td>\n",
              "      <td>0</td>\n",
              "      <td>Roanoke</td>\n",
              "      <td>0</td>\n",
              "    </tr>\n",
              "    <tr>\n",
              "      <th>1</th>\n",
              "      <td>3/29/2015</td>\n",
              "      <td>1.297376</td>\n",
              "      <td>412844.36890</td>\n",
              "      <td>29015.676120</td>\n",
              "      <td>88103.386590</td>\n",
              "      <td>2253.702012</td>\n",
              "      <td>49380.191010</td>\n",
              "      <td>29907.237220</td>\n",
              "      <td>4365.884161</td>\n",
              "      <td>54.793735</td>\n",
              "      <td>1</td>\n",
              "      <td>SanFrancisco</td>\n",
              "      <td>0</td>\n",
              "    </tr>\n",
              "    <tr>\n",
              "      <th>2</th>\n",
              "      <td>2/18/2018</td>\n",
              "      <td>1.469304</td>\n",
              "      <td>75577.23102</td>\n",
              "      <td>25218.753760</td>\n",
              "      <td>19653.059330</td>\n",
              "      <td>-748.277093</td>\n",
              "      <td>31900.310560</td>\n",
              "      <td>12429.538810</td>\n",
              "      <td>-167.238374</td>\n",
              "      <td>-84.541301</td>\n",
              "      <td>0</td>\n",
              "      <td>Louisville</td>\n",
              "      <td>1</td>\n",
              "    </tr>\n",
              "    <tr>\n",
              "      <th>3</th>\n",
              "      <td>11/15/2015</td>\n",
              "      <td>1.681869</td>\n",
              "      <td>71767.40793</td>\n",
              "      <td>4466.005801</td>\n",
              "      <td>-8540.909251</td>\n",
              "      <td>-1087.310466</td>\n",
              "      <td>16692.401790</td>\n",
              "      <td>-5718.985732</td>\n",
              "      <td>25867.196990</td>\n",
              "      <td>-33.232127</td>\n",
              "      <td>0</td>\n",
              "      <td>Albany</td>\n",
              "      <td>1</td>\n",
              "    </tr>\n",
              "    <tr>\n",
              "      <th>4</th>\n",
              "      <td>6/21/2015</td>\n",
              "      <td>1.334113</td>\n",
              "      <td>77935.77408</td>\n",
              "      <td>866.915215</td>\n",
              "      <td>8097.743815</td>\n",
              "      <td>1260.251319</td>\n",
              "      <td>-6184.326714</td>\n",
              "      <td>63516.027520</td>\n",
              "      <td>2879.525730</td>\n",
              "      <td>-20.586030</td>\n",
              "      <td>0</td>\n",
              "      <td>SanFrancisco</td>\n",
              "      <td>1</td>\n",
              "    </tr>\n",
              "  </tbody>\n",
              "</table>\n",
              "</div>"
            ],
            "text/plain": [
              "         Date  AveragePrice  Total Volume  ...  type        region  cheap\n",
              "0   4/23/2017      1.324522  363844.11950  ...     0       Roanoke      0\n",
              "1   3/29/2015      1.297376  412844.36890  ...     1  SanFrancisco      0\n",
              "2   2/18/2018      1.469304   75577.23102  ...     0    Louisville      1\n",
              "3  11/15/2015      1.681869   71767.40793  ...     0        Albany      1\n",
              "4   6/21/2015      1.334113   77935.77408  ...     0  SanFrancisco      1\n",
              "\n",
              "[5 rows x 13 columns]"
            ]
          },
          "metadata": {
            "tags": []
          },
          "execution_count": 4
        }
      ]
    },
    {
      "cell_type": "code",
      "metadata": {
        "id": "wFpnnvuP8PzK",
        "colab": {
          "base_uri": "https://localhost:8080/",
          "height": 235
        },
        "outputId": "0352e985-c0cb-4d51-8b57-7752746c07ce"
      },
      "source": [
        "df_avocado.sort_values(by='Date')\n",
        "df_avocado['Date'] = pd.to_datetime(df_avocado['Date'])\n",
        "df_avocado.set_index('Date', inplace=True)\n",
        "\n",
        "df_avocado.head()"
      ],
      "execution_count": 5,
      "outputs": [
        {
          "output_type": "execute_result",
          "data": {
            "text/html": [
              "<div>\n",
              "<style scoped>\n",
              "    .dataframe tbody tr th:only-of-type {\n",
              "        vertical-align: middle;\n",
              "    }\n",
              "\n",
              "    .dataframe tbody tr th {\n",
              "        vertical-align: top;\n",
              "    }\n",
              "\n",
              "    .dataframe thead th {\n",
              "        text-align: right;\n",
              "    }\n",
              "</style>\n",
              "<table border=\"1\" class=\"dataframe\">\n",
              "  <thead>\n",
              "    <tr style=\"text-align: right;\">\n",
              "      <th></th>\n",
              "      <th>AveragePrice</th>\n",
              "      <th>Total Volume</th>\n",
              "      <th>4046</th>\n",
              "      <th>4225</th>\n",
              "      <th>4770</th>\n",
              "      <th>Total Bags</th>\n",
              "      <th>Small Bags</th>\n",
              "      <th>Large Bags</th>\n",
              "      <th>XLarge Bags</th>\n",
              "      <th>type</th>\n",
              "      <th>region</th>\n",
              "      <th>cheap</th>\n",
              "    </tr>\n",
              "    <tr>\n",
              "      <th>Date</th>\n",
              "      <th></th>\n",
              "      <th></th>\n",
              "      <th></th>\n",
              "      <th></th>\n",
              "      <th></th>\n",
              "      <th></th>\n",
              "      <th></th>\n",
              "      <th></th>\n",
              "      <th></th>\n",
              "      <th></th>\n",
              "      <th></th>\n",
              "      <th></th>\n",
              "    </tr>\n",
              "  </thead>\n",
              "  <tbody>\n",
              "    <tr>\n",
              "      <th>2017-04-23</th>\n",
              "      <td>1.324522</td>\n",
              "      <td>363844.11950</td>\n",
              "      <td>2086.305830</td>\n",
              "      <td>15297.247530</td>\n",
              "      <td>-513.654410</td>\n",
              "      <td>7256.068788</td>\n",
              "      <td>11363.872180</td>\n",
              "      <td>4579.307742</td>\n",
              "      <td>-1.727795</td>\n",
              "      <td>0</td>\n",
              "      <td>Roanoke</td>\n",
              "      <td>0</td>\n",
              "    </tr>\n",
              "    <tr>\n",
              "      <th>2015-03-29</th>\n",
              "      <td>1.297376</td>\n",
              "      <td>412844.36890</td>\n",
              "      <td>29015.676120</td>\n",
              "      <td>88103.386590</td>\n",
              "      <td>2253.702012</td>\n",
              "      <td>49380.191010</td>\n",
              "      <td>29907.237220</td>\n",
              "      <td>4365.884161</td>\n",
              "      <td>54.793735</td>\n",
              "      <td>1</td>\n",
              "      <td>SanFrancisco</td>\n",
              "      <td>0</td>\n",
              "    </tr>\n",
              "    <tr>\n",
              "      <th>2018-02-18</th>\n",
              "      <td>1.469304</td>\n",
              "      <td>75577.23102</td>\n",
              "      <td>25218.753760</td>\n",
              "      <td>19653.059330</td>\n",
              "      <td>-748.277093</td>\n",
              "      <td>31900.310560</td>\n",
              "      <td>12429.538810</td>\n",
              "      <td>-167.238374</td>\n",
              "      <td>-84.541301</td>\n",
              "      <td>0</td>\n",
              "      <td>Louisville</td>\n",
              "      <td>1</td>\n",
              "    </tr>\n",
              "    <tr>\n",
              "      <th>2015-11-15</th>\n",
              "      <td>1.681869</td>\n",
              "      <td>71767.40793</td>\n",
              "      <td>4466.005801</td>\n",
              "      <td>-8540.909251</td>\n",
              "      <td>-1087.310466</td>\n",
              "      <td>16692.401790</td>\n",
              "      <td>-5718.985732</td>\n",
              "      <td>25867.196990</td>\n",
              "      <td>-33.232127</td>\n",
              "      <td>0</td>\n",
              "      <td>Albany</td>\n",
              "      <td>1</td>\n",
              "    </tr>\n",
              "    <tr>\n",
              "      <th>2015-06-21</th>\n",
              "      <td>1.334113</td>\n",
              "      <td>77935.77408</td>\n",
              "      <td>866.915215</td>\n",
              "      <td>8097.743815</td>\n",
              "      <td>1260.251319</td>\n",
              "      <td>-6184.326714</td>\n",
              "      <td>63516.027520</td>\n",
              "      <td>2879.525730</td>\n",
              "      <td>-20.586030</td>\n",
              "      <td>0</td>\n",
              "      <td>SanFrancisco</td>\n",
              "      <td>1</td>\n",
              "    </tr>\n",
              "  </tbody>\n",
              "</table>\n",
              "</div>"
            ],
            "text/plain": [
              "            AveragePrice  Total Volume          4046  ...  type        region  cheap\n",
              "Date                                                  ...                           \n",
              "2017-04-23      1.324522  363844.11950   2086.305830  ...     0       Roanoke      0\n",
              "2015-03-29      1.297376  412844.36890  29015.676120  ...     1  SanFrancisco      0\n",
              "2018-02-18      1.469304   75577.23102  25218.753760  ...     0    Louisville      1\n",
              "2015-11-15      1.681869   71767.40793   4466.005801  ...     0        Albany      1\n",
              "2015-06-21      1.334113   77935.77408    866.915215  ...     0  SanFrancisco      1\n",
              "\n",
              "[5 rows x 12 columns]"
            ]
          },
          "metadata": {
            "tags": []
          },
          "execution_count": 5
        }
      ]
    },
    {
      "cell_type": "code",
      "metadata": {
        "id": "VIbX7DNv8c-j",
        "colab": {
          "base_uri": "https://localhost:8080/"
        },
        "outputId": "b7c6cb3d-e8a2-4b1e-a917-6de908e0b93d"
      },
      "source": [
        "df_avocado.region.dtype"
      ],
      "execution_count": 6,
      "outputs": [
        {
          "output_type": "execute_result",
          "data": {
            "text/plain": [
              "dtype('O')"
            ]
          },
          "metadata": {
            "tags": []
          },
          "execution_count": 6
        }
      ]
    },
    {
      "cell_type": "code",
      "metadata": {
        "id": "frBwFTyc5A75",
        "colab": {
          "base_uri": "https://localhost:8080/"
        },
        "outputId": "97817b32-e62d-42e1-cace-9d01166717eb"
      },
      "source": [
        "df_avocado.region.value_counts(), df_avocado.cheap.value_counts()"
      ],
      "execution_count": 7,
      "outputs": [
        {
          "output_type": "execute_result",
          "data": {
            "text/plain": [
              "(Indianapolis           26272\n",
              " California             26030\n",
              " GrandRapids            25987\n",
              " Detroit                24831\n",
              " SouthCarolina          24747\n",
              " Southeast              23817\n",
              " Seattle                23576\n",
              " Northeast              22760\n",
              " HarrisburgScranton     21887\n",
              " NewOrleansMobile       21635\n",
              " Pittsburgh             21348\n",
              " Nashville              20746\n",
              " Tampa                  20592\n",
              " PhoenixTucson          19963\n",
              " Portland               19680\n",
              " CincinnatiDayton       19419\n",
              " Atlanta                19413\n",
              " SanFrancisco           19297\n",
              " Jacksonville           19225\n",
              " SanDiego               18910\n",
              " LosAngeles             18891\n",
              " Chicago                18674\n",
              " Denver                 18419\n",
              " Spokane                18409\n",
              " DallasFtWorth          18185\n",
              " GreatLakes             18139\n",
              " Louisville             17776\n",
              " BuffaloRochester       17690\n",
              " MiamiFtLauderdale      17604\n",
              " RaleighGreensboro      17546\n",
              " Philadelphia           17447\n",
              " Boise                  17208\n",
              " Columbus               17164\n",
              " Albany                 17159\n",
              " West                   16734\n",
              " Orlando                16690\n",
              " WestTexNewMexico       16632\n",
              " Sacramento             16401\n",
              " Midsouth               16230\n",
              " Roanoke                16178\n",
              " RichmondNorfolk        16069\n",
              " NewYork                16038\n",
              " Charlotte              15742\n",
              " HartfordSpringfield    15590\n",
              " Plains                 15434\n",
              " Boston                 15368\n",
              " SouthCentral           15116\n",
              " StLouis                15034\n",
              " LasVegas               14866\n",
              " Syracuse               14565\n",
              " TotalUS                14545\n",
              " Houston                14458\n",
              " NorthernNewEngland     14045\n",
              " BaltimoreWashington    13819\n",
              " Name: region, dtype: int64, 0    534434\n",
              " 1    465566\n",
              " Name: cheap, dtype: int64)"
            ]
          },
          "metadata": {
            "tags": []
          },
          "execution_count": 7
        }
      ]
    },
    {
      "cell_type": "code",
      "metadata": {
        "id": "KoRUTnOryJu8",
        "colab": {
          "base_uri": "https://localhost:8080/",
          "height": 440
        },
        "outputId": "4b7d6006-49f3-4ab4-ae8e-5019ef4239e1"
      },
      "source": [
        "import seaborn as sns\n",
        "import matplotlib.pyplot as plt\n",
        "\n",
        "sns.distplot( x=df_avocado['AveragePrice'])"
      ],
      "execution_count": 8,
      "outputs": [
        {
          "output_type": "stream",
          "text": [
            "/usr/local/lib/python3.7/dist-packages/seaborn/distributions.py:2557: FutureWarning: `distplot` is a deprecated function and will be removed in a future version. Please adapt your code to use either `displot` (a figure-level function with similar flexibility) or `histplot` (an axes-level function for histograms).\n",
            "  warnings.warn(msg, FutureWarning)\n",
            "/usr/local/lib/python3.7/dist-packages/matplotlib/cbook/__init__.py:1402: FutureWarning: Support for multi-dimensional indexing (e.g. `obj[:, None]`) is deprecated and will be removed in a future version.  Convert to a numpy array before indexing instead.\n",
            "  x[:, None]\n",
            "/usr/local/lib/python3.7/dist-packages/matplotlib/axes/_base.py:276: FutureWarning: Support for multi-dimensional indexing (e.g. `obj[:, None]`) is deprecated and will be removed in a future version.  Convert to a numpy array before indexing instead.\n",
            "  x = x[:, np.newaxis]\n",
            "/usr/local/lib/python3.7/dist-packages/matplotlib/axes/_base.py:278: FutureWarning: Support for multi-dimensional indexing (e.g. `obj[:, None]`) is deprecated and will be removed in a future version.  Convert to a numpy array before indexing instead.\n",
            "  y = y[:, np.newaxis]\n"
          ],
          "name": "stderr"
        },
        {
          "output_type": "execute_result",
          "data": {
            "text/plain": [
              "<matplotlib.axes._subplots.AxesSubplot at 0x7faa4dd51510>"
            ]
          },
          "metadata": {
            "tags": []
          },
          "execution_count": 8
        },
        {
          "output_type": "display_data",
          "data": {
            "image/png": "[encoded data removed]",
            "text/plain": [
              "<Figure size 432x288 with 1 Axes>"
            ]
          },
          "metadata": {
            "tags": [],
            "needs_background": "light"
          }
        }
      ]
    },
    {
      "cell_type": "code",
      "metadata": {
        "colab": {
          "base_uri": "https://localhost:8080/"
        },
        "id": "k0Y8gnJ82tQd",
        "outputId": "84afbf58-644b-4ab9-917f-c15e48f40210"
      },
      "source": [
        "#Establish target\n",
        "\n",
        "target = 'AveragePrice'\n",
        "X = df_avocado.drop(columns=[target])\n",
        "y = df_avocado[target]\n",
        "\n",
        "X_train = X\n",
        "y_train = y\n",
        "\n",
        "X_train.shape, y_train.shape, X.shape, y.shape"
      ],
      "execution_count": 9,
      "outputs": [
        {
          "output_type": "execute_result",
          "data": {
            "text/plain": [
              "((1000000, 11), (1000000,), (1000000, 11), (1000000,))"
            ]
          },
          "metadata": {
            "tags": []
          },
          "execution_count": 9
        }
      ]
    },
    {
      "cell_type": "code",
      "metadata": {
        "colab": {
          "base_uri": "https://localhost:8080/"
        },
        "id": "otLHOkcK2s3S",
        "outputId": "993e9795-9d75-42d7-99f3-5fe8e2937930"
      },
      "source": [
        "#Establish baseline\n",
        "\n",
        "from sklearn.metrics import mean_absolute_error\n",
        "\n",
        "\n",
        "majority_class = y_train.mean()\n",
        "y_pred = [majority_class] * len(y_train)\n",
        "\n",
        "\n",
        "baseline_mae = mean_absolute_error(y_train, y_pred)\n",
        "print(y_train.value_counts())\n",
        "print('Baseline MAE:', baseline_mae)\n",
        "print('Average Price', y_train.mean())"
      ],
      "execution_count": 10,
      "outputs": [
        {
          "output_type": "stream",
          "text": [
            "1.672307    3\n",
            "1.152550    3\n",
            "1.212137    3\n",
            "1.061407    3\n",
            "1.356164    3\n",
            "           ..\n",
            "1.268624    1\n",
            "2.077536    1\n",
            "1.141190    1\n",
            "0.885057    1\n",
            "1.267470    1\n",
            "Name: AveragePrice, Length: 997182, dtype: int64\n",
            "Baseline MAE: 0.2885319320715948\n",
            "Average Price 1.3270456864595341\n"
          ],
          "name": "stdout"
        }
      ]
    },
    {
      "cell_type": "code",
      "metadata": {
        "colab": {
          "base_uri": "https://localhost:8080/"
        },
        "id": "Sdqh9Dsg7d_b",
        "outputId": "6549344b-6690-4d89-b5ca-b29fa9d53669"
      },
      "source": [
        "df_avocado.info()"
      ],
      "execution_count": 11,
      "outputs": [
        {
          "output_type": "stream",
          "text": [
            "<class 'pandas.core.frame.DataFrame'>\n",
            "DatetimeIndex: 1000000 entries, 2017-04-23 to 2018-02-18\n",
            "Data columns (total 12 columns):\n",
            " #   Column        Non-Null Count    Dtype  \n",
            "---  ------        --------------    -----  \n",
            " 0   AveragePrice  1000000 non-null  float64\n",
            " 1   Total Volume  1000000 non-null  float64\n",
            " 2   4046          1000000 non-null  float64\n",
            " 3   4225          1000000 non-null  float64\n",
            " 4   4770          1000000 non-null  float64\n",
            " 5   Total Bags    1000000 non-null  float64\n",
            " 6   Small Bags    1000000 non-null  float64\n",
            " 7   Large Bags    1000000 non-null  float64\n",
            " 8   XLarge Bags   1000000 non-null  float64\n",
            " 9   type          1000000 non-null  int64  \n",
            " 10  region        1000000 non-null  object \n",
            " 11  cheap         1000000 non-null  int64  \n",
            "dtypes: float64(9), int64(2), object(1)\n",
            "memory usage: 99.2+ MB\n"
          ],
          "name": "stdout"
        }
      ]
    },
    {
      "cell_type": "code",
      "metadata": {
        "colab": {
          "base_uri": "https://localhost:8080/"
        },
        "id": "mhGtvFxqfmdR",
        "outputId": "fe3a0400-8608-4205-8ae3-ea9d7ea8c79c"
      },
      "source": [
        "df_avocado.region.value_counts()"
      ],
      "execution_count": 12,
      "outputs": [
        {
          "output_type": "execute_result",
          "data": {
            "text/plain": [
              "Indianapolis           26272\n",
              "California             26030\n",
              "GrandRapids            25987\n",
              "Detroit                24831\n",
              "SouthCarolina          24747\n",
              "Southeast              23817\n",
              "Seattle                23576\n",
              "Northeast              22760\n",
              "HarrisburgScranton     21887\n",
              "NewOrleansMobile       21635\n",
              "Pittsburgh             21348\n",
              "Nashville              20746\n",
              "Tampa                  20592\n",
              "PhoenixTucson          19963\n",
              "Portland               19680\n",
              "CincinnatiDayton       19419\n",
              "Atlanta                19413\n",
              "SanFrancisco           19297\n",
              "Jacksonville           19225\n",
              "SanDiego               18910\n",
              "LosAngeles             18891\n",
              "Chicago                18674\n",
              "Denver                 18419\n",
              "Spokane                18409\n",
              "DallasFtWorth          18185\n",
              "GreatLakes             18139\n",
              "Louisville             17776\n",
              "BuffaloRochester       17690\n",
              "MiamiFtLauderdale      17604\n",
              "RaleighGreensboro      17546\n",
              "Philadelphia           17447\n",
              "Boise                  17208\n",
              "Columbus               17164\n",
              "Albany                 17159\n",
              "West                   16734\n",
              "Orlando                16690\n",
              "WestTexNewMexico       16632\n",
              "Sacramento             16401\n",
              "Midsouth               16230\n",
              "Roanoke                16178\n",
              "RichmondNorfolk        16069\n",
              "NewYork                16038\n",
              "Charlotte              15742\n",
              "HartfordSpringfield    15590\n",
              "Plains                 15434\n",
              "Boston                 15368\n",
              "SouthCentral           15116\n",
              "StLouis                15034\n",
              "LasVegas               14866\n",
              "Syracuse               14565\n",
              "TotalUS                14545\n",
              "Houston                14458\n",
              "NorthernNewEngland     14045\n",
              "BaltimoreWashington    13819\n",
              "Name: region, dtype: int64"
            ]
          },
          "metadata": {
            "tags": []
          },
          "execution_count": 12
        }
      ]
    },
    {
      "cell_type": "code",
      "metadata": {
        "colab": {
          "base_uri": "https://localhost:8080/"
        },
        "id": "1OgoMl8b9ilu",
        "outputId": "3e063e96-4c8c-486a-dc77-656cf683a16d"
      },
      "source": [
        "df_avocado.type.head()\n",
        "\n",
        "df_avocado[\"type\"].astype(int)"
      ],
      "execution_count": 13,
      "outputs": [
        {
          "output_type": "execute_result",
          "data": {
            "text/plain": [
              "Date\n",
              "2017-04-23    0\n",
              "2015-03-29    1\n",
              "2018-02-18    0\n",
              "2015-11-15    0\n",
              "2015-06-21    0\n",
              "             ..\n",
              "2017-08-13    1\n",
              "2016-07-10    0\n",
              "2017-10-15    0\n",
              "2017-04-30    0\n",
              "2018-02-18    0\n",
              "Name: type, Length: 1000000, dtype: int64"
            ]
          },
          "metadata": {
            "tags": []
          },
          "execution_count": 13
        }
      ]
    },
    {
      "cell_type": "code",
      "metadata": {
        "colab": {
          "base_uri": "https://localhost:8080/"
        },
        "id": "HFB1cEXj4hCK",
        "outputId": "1744b03c-32bb-4ec2-dbc3-09257fab3143"
      },
      "source": [
        "#build quick model\n",
        "\n",
        "from sklearn.linear_model import LinearRegression\n",
        "from sklearn.pipeline import make_pipeline\n",
        "from sklearn.preprocessing import StandardScaler\n",
        "import category_encoders as ce\n",
        "from sklearn.impute import SimpleImputer\n",
        "\n",
        "model_cheap_lr = make_pipeline(\n",
        "    ce.OrdinalEncoder(),\n",
        "    SimpleImputer(),\n",
        "    StandardScaler(),\n",
        "    LinearRegression()\n",
        ")\n",
        "\n",
        "model_cheap_lr.fit(X_train, y_train)"
      ],
      "execution_count": 14,
      "outputs": [
        {
          "output_type": "stream",
          "text": [
            "/usr/local/lib/python3.7/dist-packages/statsmodels/tools/_testing.py:19: FutureWarning: pandas.util.testing is deprecated. Use the functions in the public API at pandas.testing instead.\n",
            "  import pandas.util.testing as tm\n"
          ],
          "name": "stderr"
        },
        {
          "output_type": "execute_result",
          "data": {
            "text/plain": [
              "Pipeline(memory=None,\n",
              "         steps=[('ordinalencoder',\n",
              "                 OrdinalEncoder(cols=['region'], drop_invariant=False,\n",
              "                                handle_missing='value', handle_unknown='value',\n",
              "                                mapping=[{'col': 'region',\n",
              "                                          'data_type': dtype('O'),\n",
              "                                          'mapping': Roanoke                 1\n",
              "SanFrancisco            2\n",
              "Louisville              3\n",
              "Albany                  4\n",
              "GrandRapids             5\n",
              "HartfordSpringfield     6\n",
              "Nashville               7\n",
              "Jacksonville            8\n",
              "Detroit                 9\n",
              "Orlando                10\n",
              "MiamiFtLauderdale      11\n",
              "Philadelphia           12\n",
              "Mids...\n",
              "dtype: int64}],\n",
              "                                return_df=True, verbose=0)),\n",
              "                ('simpleimputer',\n",
              "                 SimpleImputer(add_indicator=False, copy=True, fill_value=None,\n",
              "                               missing_values=nan, strategy='mean',\n",
              "                               verbose=0)),\n",
              "                ('standardscaler',\n",
              "                 StandardScaler(copy=True, with_mean=True, with_std=True)),\n",
              "                ('linearregression',\n",
              "                 LinearRegression(copy_X=True, fit_intercept=True, n_jobs=None,\n",
              "                                  normalize=False))],\n",
              "         verbose=False)"
            ]
          },
          "metadata": {
            "tags": []
          },
          "execution_count": 14
        }
      ]
    },
    {
      "cell_type": "code",
      "metadata": {
        "id": "zOx6wVVzX3zm"
      },
      "source": [
        "#add coefficients and look at DT and RF  models"
      ],
      "execution_count": 15,
      "outputs": []
    },
    {
      "cell_type": "code",
      "metadata": {
        "colab": {
          "base_uri": "https://localhost:8080/"
        },
        "id": "YoixZze5EMzt",
        "outputId": "ec3ee3ee-7078-4224-c23f-089b8177d94d"
      },
      "source": [
        "training_acc = model_cheap_lr.score(X_train, y_train)\n",
        "\n",
        "print('Training Accuracy', training_acc)"
      ],
      "execution_count": 16,
      "outputs": [
        {
          "output_type": "stream",
          "text": [
            "Training Accuracy 0.7038090880015244\n"
          ],
          "name": "stdout"
        }
      ]
    },
    {
      "cell_type": "code",
      "metadata": {
        "colab": {
          "base_uri": "https://localhost:8080/"
        },
        "id": "ucsEbtjsZskB",
        "outputId": "9a5bf0c8-6912-409d-b0b6-5a2b4da911b6"
      },
      "source": [
        "coefficients = model_cheap_lr.named_steps['linearregression'].coef_\n",
        "features = df_avocado.columns.drop('AveragePrice')\n",
        "pd.Series(coefficients, features)"
      ],
      "execution_count": 17,
      "outputs": [
        {
          "output_type": "execute_result",
          "data": {
            "text/plain": [
              "Total Volume   -0.005349\n",
              "4046           -0.005051\n",
              "4225           -0.004959\n",
              "4770           -0.006881\n",
              "Total Bags     -0.005478\n",
              "Small Bags     -0.004317\n",
              "Large Bags     -0.006048\n",
              "XLarge Bags    -0.007999\n",
              "type           -0.068507\n",
              "region         -0.004601\n",
              "cheap           0.244478\n",
              "dtype: float64"
            ]
          },
          "metadata": {
            "tags": []
          },
          "execution_count": 17
        }
      ]
    },
    {
      "cell_type": "code",
      "metadata": {
        "colab": {
          "base_uri": "https://localhost:8080/"
        },
        "id": "bbAgB8FBvRLk",
        "outputId": "7572a2df-fcf9-463a-f27b-e41f536962cf"
      },
      "source": [
        "#gradient boosting model\n",
        "from xgboost import XGBRegressor\n",
        "from sklearn.metrics import r2_score\n",
        "model_cheap_lr_gb = make_pipeline(\n",
        "    ce.OrdinalEncoder(),\n",
        "    XGBRegressor(n_estimators=200, objective='reg:squarederror', n_jobs=-1)\n",
        "\n",
        ")\n",
        "\n",
        "model_cheap_lr_gb.fit(X_train, y_train)\n",
        "y_pred = model_cheap_lr_gb.predict(X_train)\n",
        "print('Gradient Boosting R^2', r2_score(y_train, y_pred))"
      ],
      "execution_count": 18,
      "outputs": [
        {
          "output_type": "stream",
          "text": [
            "Gradient Boosting R^2 0.7242598968974111\n"
          ],
          "name": "stdout"
        }
      ]
    }
  ]
}